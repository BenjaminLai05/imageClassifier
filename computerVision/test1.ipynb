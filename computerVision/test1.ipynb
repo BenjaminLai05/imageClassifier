{
 "cells": [
  {
   "cell_type": "code",
   "execution_count": null,
   "id": "b13d2d7e",
   "metadata": {},
   "outputs": [],
   "source": [
    "from ultralytics import YOLO "
   ]
  },
  {
   "cell_type": "code",
   "execution_count": null,
   "id": "c2e25155",
   "metadata": {},
   "outputs": [],
   "source": [
    "model = YOLO('yolo12n.pt')"
   ]
  },
  {
   "cell_type": "code",
   "execution_count": null,
   "id": "dc493576",
   "metadata": {},
   "outputs": [],
   "source": [
    "model.train(data='/Users/benjaminlai/Desktop/2025/Semester 1/imageClassifier/computerVision/BrainTumourModel.v1i.yolov12/data.yaml', epochs=50, imgsz=640)"
   ]
  },
  {
   "cell_type": "code",
   "execution_count": null,
   "id": "60becc45",
   "metadata": {},
   "outputs": [],
   "source": [
    "model.val()\n",
    "results = model.predict('/Users/benjaminlai/Desktop/2025/Semester 1/imageClassifier/testingkit/Y160.JPG')"
   ]
  }
 ],
 "metadata": {
  "kernelspec": {
   "display_name": "base",
   "language": "python",
   "name": "python3"
  },
  "language_info": {
   "codemirror_mode": {
    "name": "ipython",
    "version": 3
   },
   "file_extension": ".py",
   "mimetype": "text/x-python",
   "name": "python",
   "nbconvert_exporter": "python",
   "pygments_lexer": "ipython3",
   "version": "3.12.4"
  }
 },
 "nbformat": 4,
 "nbformat_minor": 5
}
